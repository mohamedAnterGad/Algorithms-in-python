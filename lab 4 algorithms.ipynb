{
 "cells": [
  {
   "cell_type": "markdown",
   "id": "00bfe6ec",
   "metadata": {},
   "source": [
    "## Mohamed Anter Gad \n",
    "## AI Group 1\n",
    "## lab 4"
   ]
  },
  {
   "cell_type": "markdown",
   "id": "6e1ad400",
   "metadata": {},
   "source": [
    "## the graph representation"
   ]
  },
  {
   "cell_type": "code",
   "execution_count": 42,
   "id": "02bd958c",
   "metadata": {
    "scrolled": true
   },
   "outputs": [
    {
     "name": "stdout",
     "output_type": "stream",
     "text": [
      "the matrix representation of the graph\n"
     ]
    },
    {
     "data": {
      "text/plain": [
       "[[0, 1, 0, 1, 0, 0, 0, 0, 1],\n",
       " [1, 0, 0, 0, 0, 0, 0, 1, 0],\n",
       " [0, 0, 0, 1, 0, 1, 0, 1, 0],\n",
       " [0, 0, 1, 1, 1, 0, 0, 0, 0],\n",
       " [0, 0, 0, 1, 0, 0, 0, 0, 1],\n",
       " [0, 0, 1, 0, 0, 0, 1, 0, 0],\n",
       " [0, 0, 0, 0, 0, 1, 0, 0, 0],\n",
       " [0, 1, 1, 0, 0, 0, 0, 0, 0],\n",
       " [1, 0, 0, 0, 1, 0, 0, 0, 0]]"
      ]
     },
     "execution_count": 42,
     "metadata": {},
     "output_type": "execute_result"
    }
   ],
   "source": [
    "class Graph:\n",
    "    def __init__(self,verticies):\n",
    "        \"\"\"this init function takes the verticies numbers of the graph as a list \"\"\"\n",
    "        self.verticies = verticies\n",
    "        self.connections = []\n",
    "        for i in range(len(verticies)):\n",
    "            self.connections.append([])\n",
    "            \n",
    "    def create_connections (self,vertix , connections,weights):\n",
    "        \"\"\"this function creates connections to a vertix or overwrite its old connections\n",
    "           this function takes a list of the connections connected to this vertix \n",
    "           this function takes also the weights of the connections given\n",
    "           weights parameter can be none if no weights are given\n",
    "           prerequests: the length of the connections and weights list are equal if weight not equal none\n",
    "        \"\"\"\n",
    "        if weights == 'none':\n",
    "            weights = []\n",
    "            while len(weights) < len(self.verticies):\n",
    "                weights.append(0)\n",
    "        lst0 = []\n",
    "        k=0\n",
    "        for j in connections:\n",
    "            while j > len(lst0):\n",
    "                lst0.append(0)\n",
    "            lst0.append(weights[k])\n",
    "            k+=1\n",
    "        while len(lst0) < len(self.verticies):\n",
    "            lst0.append(0)\n",
    "        self.connections[vertix] = lst0 "
   ]
  },
  {
   "cell_type": "code",
   "execution_count": null,
   "id": "0fb08314",
   "metadata": {},
   "outputs": [],
   "source": [
    "graph = Graph(verticies = list(range(0,9)) )\n",
    "graph.connections\n",
    "graph.verticies\n",
    "graph.create_connections(0,[1,3,8],weights = 'none')\n",
    "graph.create_connections(1,[0,7],weights = 'none')\n",
    "graph.create_connections(2,[3,5,7],weights = 'none')\n",
    "graph.create_connections(3,[2,0,4],weights = 'none')\n",
    "graph.create_connections(4,[3,8],weights = 'none')\n",
    "graph.create_connections(5,[2,6],weights = 'none')\n",
    "graph.create_connections(6,[5],weights = 'none')\n",
    "graph.create_connections(7,[1,2],weights = 'none')\n",
    "graph.create_connections(8,[0,4],weights = 'none')\n",
    "\n",
    "print(\"the matrix representation of the graph : \")\n",
    "graph.connections"
   ]
  },
  {
   "cell_type": "code",
   "execution_count": 10,
   "id": "dbbbb07c",
   "metadata": {
    "scrolled": true
   },
   "outputs": [
    {
     "data": {
      "text/plain": [
       "[0, 1, 2, 3, 4, 5, 6, 7]"
      ]
     },
     "execution_count": 10,
     "metadata": {},
     "output_type": "execute_result"
    }
   ],
   "source": [
    "x = (2,3,4)\n",
    "x[1]\n",
    "list(range(0,8))"
   ]
  },
  {
   "cell_type": "code",
   "execution_count": 19,
   "id": "6a3a9e99",
   "metadata": {},
   "outputs": [
    {
     "name": "stdout",
     "output_type": "stream",
     "text": [
      "0\n",
      "2\n",
      "4\n"
     ]
    },
    {
     "data": {
      "text/plain": [
       "[0, 1, 0, 3, 0, 0, 0, 0, 8]"
      ]
     },
     "execution_count": 19,
     "metadata": {},
     "output_type": "execute_result"
    }
   ],
   "source": [
    "lst0 = []\n",
    "for j in [1,3,8]:\n",
    "    print(len(lst0))\n",
    "    while j > len(lst0):\n",
    "        lst0.append(0)\n",
    "    lst0.append(j)\n",
    "lst0"
   ]
  },
  {
   "cell_type": "code",
   "execution_count": 24,
   "id": "c66d39fc",
   "metadata": {},
   "outputs": [
    {
     "data": {
      "text/plain": [
       "[[1, 2, 3], [], []]"
      ]
     },
     "execution_count": 24,
     "metadata": {},
     "output_type": "execute_result"
    }
   ],
   "source": [
    "lst =[]\n",
    "lst.append([])\n",
    "lst.append([])\n",
    "lst.append([])\n",
    "lst[0] = [1,2,3]\n",
    "lst"
   ]
  },
  {
   "cell_type": "code",
   "execution_count": null,
   "id": "fe62bb33",
   "metadata": {},
   "outputs": [],
   "source": []
  }
 ],
 "metadata": {
  "kernelspec": {
   "display_name": "Python 3",
   "language": "python",
   "name": "python3"
  },
  "language_info": {
   "codemirror_mode": {
    "name": "ipython",
    "version": 3
   },
   "file_extension": ".py",
   "mimetype": "text/x-python",
   "name": "python",
   "nbconvert_exporter": "python",
   "pygments_lexer": "ipython3",
   "version": "3.8.8"
  }
 },
 "nbformat": 4,
 "nbformat_minor": 5
}
