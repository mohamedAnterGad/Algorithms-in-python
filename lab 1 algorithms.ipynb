{
 "cells": [
  {
   "cell_type": "markdown",
   "id": "3c86c563",
   "metadata": {},
   "source": [
    "## Mohamed Anter Gad\n",
    "## AI G1\n",
    "## LAB 1 Algorithms ITI"
   ]
  },
  {
   "cell_type": "markdown",
   "id": "734a8abb",
   "metadata": {},
   "source": [
    "### Factorial (recursion)\n",
    " complexity : "
   ]
  },
  {
   "cell_type": "code",
   "execution_count": 14,
   "id": "06b414b3",
   "metadata": {},
   "outputs": [
    {
     "data": {
      "text/plain": [
       "120"
      ]
     },
     "execution_count": 14,
     "metadata": {},
     "output_type": "execute_result"
    }
   ],
   "source": [
    "def fact(n):\n",
    "    if(n==2):\n",
    "        return 2\n",
    "    else :\n",
    "        return n*fact(n-1)\n",
    "fact(5)"
   ]
  },
  {
   "cell_type": "markdown",
   "id": "ba614446",
   "metadata": {},
   "source": [
    "### Factorial (iterative)\n",
    "complexity : o(n)"
   ]
  },
  {
   "cell_type": "code",
   "execution_count": 21,
   "id": "fd7949cb",
   "metadata": {},
   "outputs": [
    {
     "data": {
      "text/plain": [
       "720"
      ]
     },
     "execution_count": 21,
     "metadata": {},
     "output_type": "execute_result"
    }
   ],
   "source": [
    "def fact_iterative(n):\n",
    "    fact =1\n",
    "    for i in range(1,n+1):\n",
    "        fact *= i\n",
    "    return fact\n",
    "fact_iterative(6)"
   ]
  },
  {
   "cell_type": "markdown",
   "id": "7a18416f",
   "metadata": {},
   "source": [
    "### Fibonacci (recursion)\n",
    "0, 1, 1, 2, 3, 5, 8, 13, 21, 34, 55, 89, 144, ...... (each number is the sum of the past two nums)\n",
    "\n",
    "complexity : o(n) (I guess)"
   ]
  },
  {
   "cell_type": "code",
   "execution_count": 55,
   "id": "3d34ceb0",
   "metadata": {},
   "outputs": [
    {
     "data": {
      "text/plain": [
       "55"
      ]
     },
     "execution_count": 55,
     "metadata": {},
     "output_type": "execute_result"
    }
   ],
   "source": [
    "def Fibo(n):\n",
    "    if n==0 : return 0\n",
    "    elif n==1 : return 1\n",
    "    else:\n",
    "        return Fibo(n-1)+Fibo(n-2)\n",
    "Fibo(10)\n",
    "    "
   ]
  },
  {
   "cell_type": "markdown",
   "id": "b798daef",
   "metadata": {},
   "source": [
    "### Fibonacci (iterative)\n",
    "complexity : o(n)"
   ]
  },
  {
   "cell_type": "code",
   "execution_count": 54,
   "id": "ab9e8cb8",
   "metadata": {},
   "outputs": [
    {
     "data": {
      "text/plain": [
       "55"
      ]
     },
     "execution_count": 54,
     "metadata": {},
     "output_type": "execute_result"
    }
   ],
   "source": [
    "def Fibo_iterative(n):\n",
    "    fib = [0,1]\n",
    "    for i in range(2,n+1): #first two elements are 0,1 so we iterate for n-2(included)\n",
    "        fib.append(fib[i-1]+fib[i-2])\n",
    "    return fib[n]\n",
    "Fibo_iterative(10)"
   ]
  },
  {
   "cell_type": "markdown",
   "id": "83144c64",
   "metadata": {},
   "source": [
    "### Linear search (recursion)\n",
    "complexity:"
   ]
  },
  {
   "cell_type": "code",
   "execution_count": 75,
   "id": "f04e49f1",
   "metadata": {},
   "outputs": [
    {
     "name": "stdout",
     "output_type": "stream",
     "text": [
      "2\n",
      "2\n"
     ]
    }
   ],
   "source": [
    "def linear_search(n,lis,start,end):\n",
    "    if n == lis[start]: return start\n",
    "    elif n == lis[end] : return end\n",
    "    else : return linear_search(n,lis,start+1,end-1)\n",
    "    \n",
    "##another implementation\n",
    "def linear_search_2(n,lis,start):\n",
    "    if n==lis[start]: return start\n",
    "    else : return linear_search_2(n,lis,start+1)\n",
    "    \n",
    "lst =[12,13,14,15,17,19]\n",
    "print(linear_search(14,lst,0,len(lst)-1))\n",
    "print(linear_search_2(14,lst,0))"
   ]
  },
  {
   "cell_type": "markdown",
   "id": "f77665b7",
   "metadata": {},
   "source": [
    "### Linear search (iterative)\n",
    "complexity : O(n)"
   ]
  },
  {
   "cell_type": "code",
   "execution_count": 48,
   "id": "0151831a",
   "metadata": {},
   "outputs": [
    {
     "name": "stdout",
     "output_type": "stream",
     "text": [
      "-1\n"
     ]
    }
   ],
   "source": [
    "def linear_search_iterative(n,lis):\n",
    "    \"\"\" this function perform linear search to find the \n",
    "        index of the first occurence of element in the list\n",
    "        and returns -1 if the element is not in the list\"\"\"\n",
    "    for i in range(len(lis)):\n",
    "        if n == lis[i]: return i\n",
    "    return -1\n",
    "print(linear_search_iterative(0,[19,3,2,4,3]))"
   ]
  },
  {
   "cell_type": "markdown",
   "id": "09f9f899",
   "metadata": {},
   "source": [
    "### binary search (recursive)\n",
    "complexity : O(logn)"
   ]
  },
  {
   "cell_type": "code",
   "execution_count": 18,
   "id": "24c941b7",
   "metadata": {},
   "outputs": [
    {
     "data": {
      "text/plain": [
       "5"
      ]
     },
     "execution_count": 18,
     "metadata": {},
     "output_type": "execute_result"
    }
   ],
   "source": [
    "def binary_search(element,lst,start,end):\n",
    "    \"\"\"this function perform binary search\n",
    "        prerequests: the array is sorted\n",
    "                     the end is bigger than start\"\"\"\n",
    "    if start == end :\n",
    "        if element == lst[start] : return start\n",
    "        else : return -1\n",
    "    medium = (start+end)//2\n",
    "    if element == lst[medium]:\n",
    "        return medium\n",
    "    elif element > lst[medium] : return binary_search(element,lst,medium+1,end)\n",
    "    else: return binary_search(element,lst,start,medium)\n",
    "        \n",
    "binary_search(6,[1,2,3,4,5,6],0,5)"
   ]
  },
  {
   "cell_type": "markdown",
   "id": "e65ff9a0",
   "metadata": {},
   "source": [
    "### binary search (iterative)\n",
    "complexity : O(logn)"
   ]
  },
  {
   "cell_type": "code",
   "execution_count": 21,
   "id": "66358674",
   "metadata": {},
   "outputs": [
    {
     "data": {
      "text/plain": [
       "2"
      ]
     },
     "execution_count": 21,
     "metadata": {},
     "output_type": "execute_result"
    }
   ],
   "source": [
    "def binary_search_iterative(element,lst):\n",
    "    start = 0\n",
    "    end = len(lst)\n",
    "    medium = (start+end) //2\n",
    "    while(start<=end):\n",
    "        medium = (start+end) //2\n",
    "        if element == lst[medium]:\n",
    "            return medium\n",
    "        elif element > lst[medium]:\n",
    "            start = medium+1\n",
    "        else : end = medium\n",
    "    return -1\n",
    "binary_search_iterative(5,[3,4,5,6])\n"
   ]
  },
  {
   "cell_type": "markdown",
   "id": "b0e57630",
   "metadata": {},
   "source": [
    "### bubble sort\n",
    "complexity : O(n^2)"
   ]
  },
  {
   "cell_type": "code",
   "execution_count": 26,
   "id": "b91741f5",
   "metadata": {},
   "outputs": [
    {
     "data": {
      "text/plain": [
       "[32, 15, 17, 8, 6, 4, 2]"
      ]
     },
     "execution_count": 26,
     "metadata": {},
     "output_type": "execute_result"
    }
   ],
   "source": [
    "def bubble_sort(lst):\n",
    "    \"\"\"this function sort any list in the descending order\"\"\"\n",
    "    for i in range(len(lst)-1):\n",
    "        for j in range(i+1,len(lst)):\n",
    "            if lst[j]>lst[j-1]:\n",
    "                lst[j],lst[j-1] = lst[j-1],lst[j]\n",
    "    return lst\n",
    "bubble_sort([2,32,4,15,6,17,8])"
   ]
  },
  {
   "cell_type": "markdown",
   "id": "67c9ad0c",
   "metadata": {},
   "source": [
    "### bubble sort with swap:\n",
    "complexity : O(n^2)"
   ]
  },
  {
   "cell_type": "code",
   "execution_count": 38,
   "id": "39393918",
   "metadata": {},
   "outputs": [
    {
     "data": {
      "text/plain": [
       "[32, 15, 17, 8, 6, 4, 2]"
      ]
     },
     "execution_count": 38,
     "metadata": {},
     "output_type": "execute_result"
    }
   ],
   "source": [
    "def bubble_sort(lst):\n",
    "    \"\"\"this function sort any list in the descending order\"\"\"\n",
    "    for i in range(len(lst)-1):\n",
    "        swaped = False\n",
    "        for j in range(i+1,len(lst)):\n",
    "            if lst[j]>lst[j-1]:\n",
    "                lst[j],lst[j-1] = lst[j-1],lst[j]\n",
    "                swaped = True\n",
    "        if swaped == False: break\n",
    "    return lst\n",
    "bubble_sort([2,32,4,15,6,17,8])"
   ]
  },
  {
   "cell_type": "markdown",
   "id": "6dd17426",
   "metadata": {},
   "source": [
    "### insertion sort \n",
    "complexity : O(n^2)"
   ]
  },
  {
   "cell_type": "code",
   "execution_count": 27,
   "id": "8a1534b3",
   "metadata": {},
   "outputs": [
    {
     "data": {
      "text/plain": [
       "[1, 3, 5, 34, 52]"
      ]
     },
     "execution_count": 27,
     "metadata": {},
     "output_type": "execute_result"
    }
   ],
   "source": [
    "def insertion_sort(lst):\n",
    "    \"\"\"insertion sort is an improvement of bubble sort\"\"\"\n",
    "    for i in range(len(lst)):\n",
    "        for j in range(1,i):\n",
    "            if lst[j]>lst[i]:\n",
    "                lst[j],lst[i] = lst[i],lst[j]\n",
    "    return lst\n",
    "insertion_sort([1,52,3,34,5])\n",
    "                "
   ]
  },
  {
   "cell_type": "markdown",
   "id": "678cdca2",
   "metadata": {},
   "source": [
    "### selection sort\n",
    "complexity : O(n^2)"
   ]
  },
  {
   "cell_type": "code",
   "execution_count": 30,
   "id": "8864494a",
   "metadata": {},
   "outputs": [
    {
     "data": {
      "text/plain": [
       "[3, 6, 8, 12, 43, 55]"
      ]
     },
     "execution_count": 30,
     "metadata": {},
     "output_type": "execute_result"
    }
   ],
   "source": [
    "def selection_sort(lst):\n",
    "    current_item = 0\n",
    "    for i in range(len(lst)):\n",
    "        current_min_index = i\n",
    "        for j in range(i,len(lst)):\n",
    "            if lst[j] < lst[current_min_index]:\n",
    "                current_min_index = j\n",
    "        lst[i],lst[current_min_index] = lst[current_min_index],lst[i]\n",
    "    return lst\n",
    "selection_sort([12,43,55,3,6,8])"
   ]
  },
  {
   "cell_type": "markdown",
   "id": "0b4c1ab6",
   "metadata": {},
   "source": [
    "### gcd :\n",
    "complexity : O(logn)"
   ]
  },
  {
   "cell_type": "code",
   "execution_count": 35,
   "id": "d34b9281",
   "metadata": {},
   "outputs": [
    {
     "data": {
      "text/plain": [
       "2"
      ]
     },
     "execution_count": 35,
     "metadata": {},
     "output_type": "execute_result"
    }
   ],
   "source": [
    "def gcd(a,b):\n",
    "    if a==0:\n",
    "        return b\n",
    "    else :\n",
    "        return gcd(b%a,a)\n",
    "gcd(10,4)"
   ]
  },
  {
   "cell_type": "code",
   "execution_count": null,
   "id": "477f50b3",
   "metadata": {},
   "outputs": [],
   "source": []
  }
 ],
 "metadata": {
  "kernelspec": {
   "display_name": "Python 3",
   "language": "python",
   "name": "python3"
  },
  "language_info": {
   "codemirror_mode": {
    "name": "ipython",
    "version": 3
   },
   "file_extension": ".py",
   "mimetype": "text/x-python",
   "name": "python",
   "nbconvert_exporter": "python",
   "pygments_lexer": "ipython3",
   "version": "3.8.8"
  }
 },
 "nbformat": 4,
 "nbformat_minor": 5
}
