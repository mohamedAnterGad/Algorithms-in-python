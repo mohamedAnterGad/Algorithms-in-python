{
 "cells": [
  {
   "cell_type": "markdown",
   "id": "ac7534b4",
   "metadata": {},
   "source": [
    "# Mohamed Anter Gad\n",
    "# AI smart village\n",
    "# lab 5 Algorithms"
   ]
  },
  {
   "cell_type": "markdown",
   "id": "3fed3487",
   "metadata": {},
   "source": [
    "# merge sort:"
   ]
  },
  {
   "cell_type": "code",
   "execution_count": 24,
   "id": "c86dfc7f",
   "metadata": {},
   "outputs": [],
   "source": [
    "def merge_sort(x):\n",
    "    m = len(x)\n",
    "    #................................stop condition...............................\n",
    "    if m==1 :\n",
    "        return x\n",
    "    \n",
    "    #................................dividing into two arrays........................\n",
    "    arr1 = merge_sort(x[ 0 :  m//2])\n",
    "    arr2 = merge_sort(x[ m//2 :  m])\n",
    "    \n",
    "    #................................conquering the sub problem.......................\n",
    "    lead1 , lead2 = 0,0\n",
    "    arr = []\n",
    "    \n",
    "    # loop on all elements(sum of elements in the two sub arrays (worst case))\n",
    "    for i in range(m):\n",
    "        #compare the lead of each loop and append the smaller value\n",
    "        if arr1[lead1] < arr2[lead2] :\n",
    "            arr.append(arr1[lead1])\n",
    "            lead1 +=1\n",
    "        else:\n",
    "            arr.append(arr2[lead2])\n",
    "            lead2+=1\n",
    "            \n",
    "        # if sub array is empty then append all elements in the other sub array\n",
    "        if(lead1 >= len(arr1)):\n",
    "            for j in range(i+1 , i+1+len(arr2)-lead2):\n",
    "                arr.append(arr2[lead2])\n",
    "                lead2+=1\n",
    "            break\n",
    "            \n",
    "        elif lead2>= len(arr2):\n",
    "            for j in range(i+1 , i+1+len(arr1)-lead1):\n",
    "                arr.append(arr1[lead1])\n",
    "                lead1+=1\n",
    "            break\n",
    "            \n",
    "\n",
    "    return arr"
   ]
  },
  {
   "cell_type": "code",
   "execution_count": 26,
   "id": "c6b925ae",
   "metadata": {},
   "outputs": [
    {
     "data": {
      "text/plain": [
       "[0, 1, 3, 3, 4, 4, 6, 9, 12]"
      ]
     },
     "execution_count": 26,
     "metadata": {},
     "output_type": "execute_result"
    }
   ],
   "source": [
    "x = [1,12,3,9,0,4,3,4,6]\n",
    "merge_sort(x)"
   ]
  },
  {
   "cell_type": "markdown",
   "id": "3ebd47b4",
   "metadata": {},
   "source": [
    "## draft cell .// to be deleted"
   ]
  },
  {
   "cell_type": "code",
   "execution_count": 20,
   "id": "4d6c6469",
   "metadata": {},
   "outputs": [
    {
     "data": {
      "text/plain": [
       "1"
      ]
     },
     "execution_count": 20,
     "metadata": {},
     "output_type": "execute_result"
    }
   ],
   "source": [
    "arr=[]\n",
    "arr.append(3)\n",
    "len(arr)"
   ]
  },
  {
   "cell_type": "markdown",
   "id": "496cca15",
   "metadata": {},
   "source": [
    "# classical multiplication"
   ]
  },
  {
   "cell_type": "code",
   "execution_count": 81,
   "id": "dccc4d6a",
   "metadata": {},
   "outputs": [],
   "source": [
    "def multiplication_classical(num1,num2):\n",
    "    num = num1\n",
    "    n = 0\n",
    "    while num != 0:\n",
    "        n+=1\n",
    "        num = num //10\n",
    "        \n",
    "        # stop condition if 1 digit num do not compute the a,b cuz it n/2 is float\n",
    "    if n==1:\n",
    "        return num1 * num2\n",
    "        \n",
    "    a =  num1 // 10**(n/2)\n",
    "    b =  num1 % 10 ** (n/2)\n",
    "    \n",
    "    c = num2 // 10 ** (n/2)\n",
    "    d = num2 %  10 ** (n/2)\n",
    "    \n",
    "    \n",
    "    #else \n",
    "    return int( (10**n) * multiplication_classical(a,c) + 10**(n/2) * (multiplication_classical(a,d) + multiplication_classical(b,c)) \\\n",
    "            + multiplication_classical(b,d) )"
   ]
  },
  {
   "cell_type": "code",
   "execution_count": 84,
   "id": "3592f3f3",
   "metadata": {},
   "outputs": [
    {
     "name": "stdout",
     "output_type": "stream",
     "text": [
      "8282682\n"
     ]
    }
   ],
   "source": [
    "num1 = 2934\n",
    "num2 = 2823\n",
    "print(multiplication_classical(num1,num2))"
   ]
  },
  {
   "cell_type": "markdown",
   "id": "d442d0bb",
   "metadata": {},
   "source": [
    "# karatsupa multiplication"
   ]
  },
  {
   "cell_type": "code",
   "execution_count": 132,
   "id": "5bc5b058",
   "metadata": {},
   "outputs": [],
   "source": [
    "def karatsuba_multiplication(num1 , num2):\n",
    "    num = num1\n",
    "    \n",
    "    #calculating the number of digits\n",
    "    n = 0\n",
    "    while num != 0:\n",
    "        n+=1\n",
    "        num = num //10\n",
    "        \n",
    "        # stop condition if 1 digit num do not compute the a,b cuz it n/2 is float\n",
    "    if n==1:\n",
    "        return num1 * num2\n",
    "    \n",
    "    #step 1 : compute the halves of the two numbers\n",
    "    a =  num1 // 10 **(n//2)\n",
    "    b =  num1 % 10 ** (n//2)\n",
    "    \n",
    "    c = num2 // 10 ** (n//2)\n",
    "    d = num2 %  10 ** (n//2)\n",
    "    #print(n, a, b, c, d)\n",
    "    #step 2 : compute ad + bc =  (a+b) * (c+d) - ac - bd\n",
    "    p = a+b\n",
    "    q = c+d \n",
    "    \n",
    "    ac = karatsuba_multiplication(a,c)\n",
    "    bd = karatsuba_multiplication(b,d)\n",
    "    pq = karatsuba_multiplication(p,q)\n",
    "    \n",
    "    ad_plus_bc =  pq - ac - bd\n",
    "    \n",
    "    #step 3: compute the whole multoplication ac + bd + (ad + bc)\n",
    "    return 10**(n//2) *ad_plus_bc + 10**(n//2*2) *ac + bd \n",
    "    #return 10**1 *ad_plus_bc + 10**2 *ac + bd , n\n",
    "    #return 10**n/2 * (karatsuba_multiplication(p,q) - karatsuba_multiplication(a,c) - karatsuba_multiplication(b,d))+ 10**n *karatsuba_multiplication(a,c) + karatsuba_multiplication(b,d)"
   ]
  },
  {
   "cell_type": "code",
   "execution_count": 133,
   "id": "38eea631",
   "metadata": {},
   "outputs": [
    {
     "data": {
      "text/plain": [
       "56088"
      ]
     },
     "execution_count": 133,
     "metadata": {},
     "output_type": "execute_result"
    }
   ],
   "source": [
    "karatsuba_multiplication(123,456)"
   ]
  },
  {
   "cell_type": "markdown",
   "id": "e23048c8",
   "metadata": {},
   "source": [
    "# Quick sort"
   ]
  },
  {
   "cell_type": "code",
   "execution_count": 45,
   "id": "ab7cd010",
   "metadata": {},
   "outputs": [
    {
     "name": "stdout",
     "output_type": "stream",
     "text": [
      "[1, 2, 1, 0, 2, 5, 4]\n",
      "4\n",
      "[0, 2, 1, 1, 2, 5, 4]\n",
      "0\n",
      "[0, 2, 1, 1, 2, 5, 4]\n",
      "0\n",
      "[0, 1, 1, 2, 2, 5, 4]\n",
      "2\n",
      "[0, 1, 1, 2, 2, 5, 4]\n",
      "2\n",
      "[0, 1, 1, 2, 2, 5, 4]\n",
      "4\n",
      "[0, 1, 1, 2, 2, 4, 5]\n",
      "5\n",
      "[0, 1, 1, 2, 2, 4, 5]\n",
      "5\n"
     ]
    }
   ],
   "source": [
    "def quick_sort(x,start,end):\n",
    "    if start < end :\n",
    "        q,x = partition(x,start,end)\n",
    "        print(x)\n",
    "        print(q)\n",
    "        \n",
    "        quick_sort(x,start,q-1)\n",
    "        print(x)\n",
    "        print(q)\n",
    "        quick_sort(x,q+1,end)\n",
    "    else :\n",
    "        return x\n",
    "    \n",
    "def partition(x,start,end):\n",
    "    pivot = x[end]\n",
    "    i = start-1\n",
    "    for j in range(start,end,1):\n",
    "        if x[j] <= pivot :\n",
    "            i +=1\n",
    "            x[j] , x[i] = swap(x[j],x[i])\n",
    "        #print(x)   \n",
    "    x[i+1] , x[end] = swap(x[i+1],pivot)\n",
    "    return i+1 ,x\n",
    "\n",
    "def swap(x,y):\n",
    "    x,y = y,x\n",
    "    return x,y\n",
    "# print(partition ([1,2,4,5,1,0,2],0,6))\n",
    "# print()\n",
    "# partition ([1, 2, 1, 0, 2, 5, 4],5,6)\n",
    "#partition ([1, 2, 1, 0, 2, 5, 4],6,6)\n",
    "\n",
    "\n",
    "\n",
    "quick_sort ([1,2,4,5,1,0,2],0,6)\n",
    "\n",
    "        \n",
    "    \n",
    "    \n",
    "    "
   ]
  },
  {
   "cell_type": "code",
   "execution_count": 57,
   "id": "f882ad6c",
   "metadata": {
    "scrolled": true
   },
   "outputs": [
    {
     "name": "stdout",
     "output_type": "stream",
     "text": [
      "[-2, 2, 4, 5, 1, 0, 2, 1]\n",
      "0\n",
      "[-2, 1, 0, 1, 2, 4, 2, 5]\n",
      "3\n",
      "[-2, 0, 1, 1, 2, 4, 2, 5]\n",
      "1\n",
      "[-2, 0, 1, 1, 2, 4, 2, 5]\n",
      "7\n",
      "[-2, 0, 1, 1, 2, 2, 4, 5]\n",
      "5\n"
     ]
    }
   ],
   "source": [
    "def quick_sort(x,start,end):\n",
    "    if start < end :\n",
    "        q = partition(x,start,end)\n",
    "        print(x)\n",
    "        print(q)\n",
    "        \n",
    "        quick_sort(x,start,q-1)\n",
    "        quick_sort(x,q+1,end)\n",
    "    \n",
    "def partition(x,start,end):\n",
    "    pivot = x[end]\n",
    "    i = start-1\n",
    "    for j in range(start,end,1):\n",
    "        if x[j] <= pivot :\n",
    "            i +=1\n",
    "            x[j] , x[i] = (x[i],x[j])\n",
    "        #print(x)   \n",
    "    x[i+1] , x[end] = x[end] , x[i+1]\n",
    "    return i+1\n",
    "\n",
    "quick_sort ([1,2,4,5,1,0,2,-2],start = 0, end = 7)\n",
    "\n",
    "        \n",
    "    \n",
    "    \n",
    "    "
   ]
  }
 ],
 "metadata": {
  "kernelspec": {
   "display_name": "Python 3",
   "language": "python",
   "name": "python3"
  },
  "language_info": {
   "codemirror_mode": {
    "name": "ipython",
    "version": 3
   },
   "file_extension": ".py",
   "mimetype": "text/x-python",
   "name": "python",
   "nbconvert_exporter": "python",
   "pygments_lexer": "ipython3",
   "version": "3.8.8"
  }
 },
 "nbformat": 4,
 "nbformat_minor": 5
}
