{
 "cells": [
  {
   "cell_type": "markdown",
   "id": "4266fffd",
   "metadata": {},
   "source": [
    "# lab 2 algorithms\n",
    "# Mohamed Anter\n",
    "# AI Smart Village"
   ]
  },
  {
   "cell_type": "markdown",
   "id": "2500a38f",
   "metadata": {},
   "source": [
    "## money change greedy algorithm\n",
    "complexity : n^2"
   ]
  },
  {
   "cell_type": "code",
   "execution_count": 20,
   "id": "9e64eae3",
   "metadata": {},
   "outputs": [
    {
     "name": "stdout",
     "output_type": "stream",
     "text": [
      "enter a number1423\n",
      "money  reminder\n",
      "200     1223\n",
      "200     1023\n",
      "200     823\n",
      "200     623\n",
      "200     423\n",
      "200     223\n",
      "200     23\n",
      "20     3\n",
      "1     2\n",
      "1     1\n",
      "1     0\n",
      "[200, 200, 200, 200, 200, 200, 200, 20, 1, 1, 1]\n",
      "money  reminder\n",
      "11     13\n",
      "11     2\n",
      "1     1\n",
      "1     0\n"
     ]
    },
    {
     "data": {
      "text/plain": [
       "[11, 11, 1, 1]"
      ]
     },
     "execution_count": 20,
     "metadata": {},
     "output_type": "execute_result"
    }
   ],
   "source": [
    "import numpy as np\n",
    "\n",
    "def greedy(num,money_change):\n",
    "    money_change.sort(reverse = True)\n",
    "    rem = num\n",
    "    money_used = []\n",
    "    print(\"money  reminder\")\n",
    "    i=0\n",
    "    while rem != 0:\n",
    "        while rem >= money_change[i]: #while rem > greatest paper: take from it\n",
    "                rem -= money_change[i]\n",
    "                money_used.append(money_change[i])\n",
    "                print(money_change[i],\"   \",rem)\n",
    "        i=i+1\n",
    "    return money_used\n",
    "\n",
    "money_change = [200,100,50,20,10,5,1]\n",
    "money = int(input(\"enter a number\"))\n",
    "print(greedy(money,money_change))\n",
    "greedy(24,[8,11,4,1])"
   ]
  },
  {
   "cell_type": "markdown",
   "id": "f22f8392",
   "metadata": {},
   "source": [
    "## money change optimum algorithm\n",
    "complexity : 2^n"
   ]
  },
  {
   "cell_type": "code",
   "execution_count": 13,
   "id": "2cb00040",
   "metadata": {},
   "outputs": [
    {
     "name": "stdout",
     "output_type": "stream",
     "text": [
      "enter a number968\n",
      "(1, 1, 1, 5, 10, 50, 100, 200, 200, 200, 200)\n",
      "(8, 8, 8)\n"
     ]
    }
   ],
   "source": [
    "from itertools import combinations_with_replacement\n",
    "\n",
    "def money_change_optimum(num,money_change):\n",
    "    \"\"\"this function takes a number and returns the least number of money papers \n",
    "        summing to this number\"\"\"\n",
    "    money_change.sort()\n",
    "    i = 1\n",
    "    sol = 0\n",
    "    while  1: #infinity loop untill finding a solution\n",
    "        comb = combinations_with_replacement(money_change,i) # starting from one paper then increasing number of papers\n",
    "        combbb = [c for c in comb if sum(c) == num] #list of tuples contains one tuple\n",
    "        if len(combbb)>0:\n",
    "            sol = combbb[0]\n",
    "            break\n",
    "        i+=1\n",
    "    return sol\n",
    "\n",
    "money_change = [200,100,50,20,10,5,1]\n",
    "num = int(input(\"enter a number\"))\n",
    "print(money_change_optimum(num,money_change))\n",
    "print(money_change_optimum(24,[8,11,4,1]))"
   ]
  },
  {
   "cell_type": "markdown",
   "id": "b3402d27",
   "metadata": {},
   "source": [
    "## knapsack fractional\n",
    "complexity : O(n)\n",
    "    "
   ]
  },
  {
   "cell_type": "code",
   "execution_count": 29,
   "id": "8806f5ea",
   "metadata": {},
   "outputs": [
    {
     "name": "stdout",
     "output_type": "stream",
     "text": [
      "plz enter the maximum weight: 50\n",
      "weights are :  [10, 20, 20]  with sum of  50\n",
      "values are :  [60, 100, 80.0]  with sum of  240.0\n"
     ]
    }
   ],
   "source": [
    "import pandas as pd\n",
    "\n",
    "def knapsack_fractional(max_weight,df):\n",
    "    weights =[]\n",
    "    values = []\n",
    "    df2 = df\n",
    "    while sum(weights)<max_weight:\n",
    "        w=int(df2[df2['value per weight']==max(df2['value per weight'])]['weight']) #int is super important\n",
    "        value = int(df2[df2['value per weight']==max(df2['value per weight'])]['value'])\n",
    "        df2.drop( df2[df2['value per weight']==max(df2['value per weight'])].index,inplace = True)\n",
    "        if (sum(weights)+w) < max_weight:\n",
    "            weights.append(w)\n",
    "            values.append(value)\n",
    "        else: #if sum will excceed the max_weight\n",
    "            weights.append(max_weight-sum(weights))\n",
    "            values.append((weights[-1]/w)*value)\n",
    "            break\n",
    "    return weights,values\n",
    "\n",
    "df = pd.DataFrame({'item':['gold','silver','bronze'],'weight':[10,20,30],'value':[60,100,120]})\n",
    "df['value per weight'] = df['value']/df['weight']\n",
    "max_weight = int(input(\"plz enter the maximum weight: \"))\n",
    "weights, values = knapsack_fractional(max_weight,df)\n",
    "print('weights are : ',weights,' with sum of ',sum(weights))\n",
    "print('values are : ',values,' with sum of ',sum(values))\n"
   ]
  },
  {
   "cell_type": "code",
   "execution_count": 20,
   "id": "ef74d8ff",
   "metadata": {},
   "outputs": [
    {
     "data": {
      "text/plain": [
       "Int64Index([2], dtype='int64')"
      ]
     },
     "execution_count": 20,
     "metadata": {},
     "output_type": "execute_result"
    }
   ],
   "source": [
    "df = pd.DataFrame({'item':['gold','silver','bronze'],'weight':[10,20,30],'value':[60,100,120]})\n",
    "df['value per weight'] = df['weight']/df['value']\n",
    "df[df['value per weight']==max(df['value per weight'])]['weight']\n",
    "\n",
    "df.loc[df['value per weight']==max(df['value per weight']),'weight']\n",
    "df['value per weight']==max(df['value per weight'])\n",
    "int(df[df['value per weight']==max(df['value per weight'])]['value'])\n",
    "#df.drop( (df['value per weight']==max(df['value per weight'])).index,inplace = True)\n",
    "df\n",
    "(df[df['value per weight']==max(df['value per weight'])]).index"
   ]
  },
  {
   "cell_type": "markdown",
   "id": "f80e2314",
   "metadata": {},
   "source": [
    "## knapsack 0-1 solution (greedy):\n",
    "complexity: O(n)"
   ]
  },
  {
   "cell_type": "code",
   "execution_count": 72,
   "id": "3433e7b1",
   "metadata": {},
   "outputs": [
    {
     "name": "stdout",
     "output_type": "stream",
     "text": [
      "plz enter the maximum weight: 50\n",
      "weights are :  [10, 20]  with sum of  30\n",
      "values are :  [60, 100]  with sum of  160\n",
      "items are :  [['gold'], ['silver']]\n"
     ]
    }
   ],
   "source": [
    "import pandas as pd\n",
    "\n",
    "def knapsack_binary(max_weight,df):\n",
    "    weights =[]\n",
    "    values = []\n",
    "    items = []\n",
    "    df2 = df\n",
    "    while sum(weights)<max_weight:\n",
    "        w=int(df2[df2['value per weight']==max(df2['value per weight'])]['weight']) #int is super important\n",
    "        value = int(df2[df2['value per weight']==max(df2['value per weight'])]['value'])\n",
    "        item = list(df2[df2['value per weight']==max(df2['value per weight'])]['item'])\n",
    "        df2.drop( df2[df2['value per weight']==max(df2['value per weight'])].index,inplace = True)\n",
    "        if (sum(weights)+w) > max_weight:\n",
    "            break\n",
    "        else: \n",
    "            weights.append(w)\n",
    "            values.append(value)\n",
    "            items.append(item)\n",
    "    return weights,values,items\n",
    "\n",
    "df = pd.DataFrame({'item':['gold','silver','bronze'],'weight':[10,20,30],'value':[60,100,120]})\n",
    "df['value per weight'] = df['value']/df['weight']\n",
    "max_weight = int(input(\"plz enter the maximum weight: \"))\n",
    "weights, values,items = knapsack_binary(max_weight,df)\n",
    "print('weights are : ',weights,' with sum of ',sum(weights))\n",
    "print('values are : ',values,' with sum of ',sum(values))\n",
    "print('items are : ', items)"
   ]
  },
  {
   "cell_type": "markdown",
   "id": "71ec312d",
   "metadata": {},
   "source": [
    "## knapsack algorithm (optimum)\n",
    "complexity: O(2^n)"
   ]
  },
  {
   "cell_type": "code",
   "execution_count": 98,
   "id": "004952b7",
   "metadata": {},
   "outputs": [
    {
     "name": "stdout",
     "output_type": "stream",
     "text": [
      "plz enter the maximum weight: -9\n",
      "max weight error\n"
     ]
    }
   ],
   "source": [
    "from itertools import combinations\n",
    "def knapsack_optimum(df,max_weight):\n",
    "    if max_weight <= 0 or max_weight > sum(df['weight']) :\n",
    "        #return\n",
    "        return [],[],[]\n",
    "    weights=[]\n",
    "    values=df['value'].values.tolist()\n",
    "    indecies = list(df.index)\n",
    "    all_values=[]\n",
    "    n = df.shape[0]\n",
    "    break_outer = False\n",
    "    max_value = 0\n",
    "    for i in range(1,n):\n",
    "        comb = list(combinations(indecies,i)) # list of tuples indecies\n",
    "        for j in range(len(comb)):\n",
    "            values=[]\n",
    "            weights=[]\n",
    "            items=[]\n",
    "            for k in range(i):\n",
    "                row = (df.loc[list(comb[j])[k]])\n",
    "                value = row['value']\n",
    "                weight = row['weight']\n",
    "                item = row['item']\n",
    "                values.append(value)\n",
    "                weights.append(weight)\n",
    "                items.append(item)\n",
    "            if sum(weights)>max_weight:\n",
    "                break_outer == True\n",
    "                break\n",
    "            if sum(values) > max_value:\n",
    "                max_value = sum(values)\n",
    "                weight_list = weights\n",
    "                values_list = values\n",
    "                items_list = items\n",
    "        if break_outer == True:\n",
    "            break\n",
    "    return weight_list,values_list,items_list\n",
    "\n",
    "df = pd.DataFrame({'item':['gold','silver','bronze'],'weight':[10,20,30],'value':[60,100,120]})\n",
    "df['value per weight'] = df['value']/df['weight']\n",
    "max_weight = int(input(\"plz enter the maximum weight: \"))\n",
    "weights,values,items = knapsack_optimum(df,max_weight)\n",
    "if len(weights) == 0 :\n",
    "    print(\"max weight error\")\n",
    "else:\n",
    "    print('weights are ',weights,' and values are : ',values,' for the items : ',items)\n",
    "    "
   ]
  },
  {
   "cell_type": "code",
   "execution_count": 89,
   "id": "ec44abbf",
   "metadata": {},
   "outputs": [
    {
     "data": {
      "text/plain": [
       "280"
      ]
     },
     "execution_count": 89,
     "metadata": {},
     "output_type": "execute_result"
    }
   ],
   "source": [
    "df = pd.DataFrame({'item':['gold','silver','bronze'],'weight':[10,20,30],'value':[60,100,120]})\n",
    "df['value per weight'] = df['value']/df['weight']\n",
    "weights=[]\n",
    "values=df['value'].values.tolist()\n",
    "all_values=[]\n",
    "n = df.shape[0]\n",
    "comb = list(combinations(values,1))\n",
    "#all_values.append(sum(comb))\n",
    "len(comb[0])\n",
    "#comb\n",
    "list(df.index)\n",
    "#df[]\n",
    "x = list(list(combinations(list(df.index),1))[0])[0]\n",
    "df.loc[x]['value']\n",
    "df.loc[x]\n",
    "sum(df['value'])"
   ]
  },
  {
   "cell_type": "code",
   "execution_count": null,
   "id": "cefd2b0e",
   "metadata": {},
   "outputs": [],
   "source": []
  }
 ],
 "metadata": {
  "kernelspec": {
   "display_name": "Python 3",
   "language": "python",
   "name": "python3"
  },
  "language_info": {
   "codemirror_mode": {
    "name": "ipython",
    "version": 3
   },
   "file_extension": ".py",
   "mimetype": "text/x-python",
   "name": "python",
   "nbconvert_exporter": "python",
   "pygments_lexer": "ipython3",
   "version": "3.8.8"
  }
 },
 "nbformat": 4,
 "nbformat_minor": 5
}
